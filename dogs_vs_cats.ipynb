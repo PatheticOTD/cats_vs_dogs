{
 "cells": [
  {
   "cell_type": "code",
   "execution_count": 1,
   "metadata": {},
   "outputs": [],
   "source": [
    "import torch\n",
    "import torch.nn as nn\n",
    "import torch.nn.functional as F\n",
    "import torch.optim as optim\n",
    "from torch.utils.data import DataLoader, random_split\n",
    "from torchvision import datasets, transforms\n",
    "from torchvision.transforms import v2\n",
    "import matplotlib.pyplot as plt\n",
    "from sklearn.model_selection import train_test_split\n",
    "import pandas as pd\n",
    "import numpy as np\n",
    "import pickle\n",
    "import gc\n",
    "import os\n",
    "from tqdm import tqdm\n",
    "from torchsummary import summary"
   ]
  },
  {
   "cell_type": "code",
   "execution_count": 2,
   "metadata": {},
   "outputs": [
    {
     "data": {
      "text/plain": [
       "<torch._C.Generator at 0x7fc23ab71830>"
      ]
     },
     "execution_count": 2,
     "metadata": {},
     "output_type": "execute_result"
    }
   ],
   "source": [
    "torch.manual_seed(42)"
   ]
  },
  {
   "cell_type": "code",
   "execution_count": 3,
   "metadata": {},
   "outputs": [
    {
     "data": {
      "text/plain": [
       "'cuda'"
      ]
     },
     "execution_count": 3,
     "metadata": {},
     "output_type": "execute_result"
    }
   ],
   "source": [
    "device = 'cuda' if torch.cuda.is_available() else 'cpu'\n",
    "device"
   ]
  },
  {
   "cell_type": "code",
   "execution_count": 4,
   "metadata": {},
   "outputs": [],
   "source": [
    "data_transform = v2.Compose([\n",
    "    v2.Resize((180, 180)),\n",
    "    v2.ToImage(),\n",
    "    v2.ToDtype(torch.float32, scale=True),\n",
    "    v2.Normalize([0.5], [0.5]),\n",
    "    v2.RandomInvert() \n",
    "])"
   ]
  },
  {
   "cell_type": "code",
   "execution_count": 5,
   "metadata": {},
   "outputs": [],
   "source": [
    "\n",
    "data = datasets.ImageFolder(\"data/kagglecatsanddogs_5340/PetImages\", transform = data_transform)"
   ]
  },
  {
   "cell_type": "code",
   "execution_count": 6,
   "metadata": {},
   "outputs": [],
   "source": [
    "torch.manual_seed(42)\n",
    "train_data, test_data = random_split(data, [.7, .3])\n",
    "train_loader = DataLoader(dataset= train_data, num_workers= 12, batch_size= 512, shuffle= True)\n",
    "test_loader  = DataLoader(dataset= test_data,  num_workers= 12, batch_size= 512, shuffle= True)"
   ]
  },
  {
   "cell_type": "code",
   "execution_count": 7,
   "metadata": {},
   "outputs": [],
   "source": [
    "class Cats_n_Dogs_net(nn.Module):\n",
    "    def __init__(self, random_state):\n",
    "        super(Cats_n_Dogs_net, self).__init__()\n",
    "        \n",
    "        self.conv1 = nn.Conv2d(in_channels = 3, out_channels=32, kernel_size = (3,3)) # -4\n",
    "        self.relu1 = nn.ReLU()\n",
    "        self.maxpool1 = nn.MaxPool2d(kernel_size=(2,2))# // 2\n",
    "        \n",
    "        self.conv2 = nn.Conv2d(in_channels = 32, out_channels=64, kernel_size=(3,3)) # -2\n",
    "        self.relu2 = nn.ReLU()\n",
    "        self.maxpool2 = nn.MaxPool2d(kernel_size=(2,2))# // 2\n",
    "        \n",
    "        self.conv3 = nn.Conv2d(in_channels = 64, out_channels = 128, kernel_size = (3,3)) # -2\n",
    "        self.relu3 = nn.ReLU()\n",
    "        self.maxpool3 = nn.MaxPool2d(kernel_size=(2,2))# // 2\n",
    "        \n",
    "        self.conv4 = nn.Conv2d(in_channels=128, out_channels=256, kernel_size=3)\n",
    "        self.relu4 = nn.ReLU()\n",
    "        self.maxpool4 = nn.MaxPool2d(kernel_size=(2,2))\n",
    "        \n",
    "        self.conv5 = nn.Conv2d(in_channels=256, out_channels=256, kernel_size=3)\n",
    "        self.relu5 = nn.ReLU()\n",
    "        \n",
    "        torch.manual_seed(random_state)\n",
    "        self.dropout1 = nn.Dropout2d(p = .5)\n",
    "        self.flatten1 = nn.Flatten(1)\n",
    "        \n",
    "        self.linear1 = nn.LazyLinear(out_features=256)\n",
    "        self.relu2 = nn.ReLU()\n",
    "        \n",
    "        self.dropout2 = nn.Dropout2d(p = 0.2)\n",
    "        self.linear2 = nn.Linear(in_features = 256, out_features = 2)\n",
    "        self.softmax1 = nn.Softmax(dim = 1)\n",
    "        \n",
    "    def forward(self, x):\n",
    "        x = self.conv1(x)\n",
    "        x = self.relu1(x)\n",
    "        x = self.maxpool1(x)\n",
    "        \n",
    "        x = self.conv2(x)\n",
    "        x = self.relu2(x)\n",
    "        x = self.maxpool2(x)\n",
    "        \n",
    "        x = self.conv3(x)\n",
    "        x = self.relu3(x)\n",
    "        x = self.maxpool3(x)\n",
    "        \n",
    "        x = self.conv4(x)\n",
    "        x = self.relu4(x)\n",
    "        x = self.maxpool4(x)\n",
    "        \n",
    "        x = self.conv5(x)\n",
    "        x = self.relu5(x)\n",
    "        \n",
    "        x = self.dropout1(x)\n",
    "        x = self.flatten1(x)\n",
    "        \n",
    "        x = self.linear1(x)\n",
    "        x = self.relu2(x)\n",
    "        \n",
    "        x = self.dropout2(x)\n",
    "        x = self.linear2(x)\n",
    "        x = self.softmax1(x)\n",
    "        return x"
   ]
  },
  {
   "cell_type": "code",
   "execution_count": 8,
   "metadata": {},
   "outputs": [
    {
     "name": "stdout",
     "output_type": "stream",
     "text": [
      "----------------------------------------------------------------\n",
      "        Layer (type)               Output Shape         Param #\n",
      "================================================================\n",
      "            Conv2d-1         [-1, 32, 178, 178]             896\n",
      "              ReLU-2         [-1, 32, 178, 178]               0\n",
      "         MaxPool2d-3           [-1, 32, 89, 89]               0\n",
      "            Conv2d-4           [-1, 64, 87, 87]          18,496\n",
      "              ReLU-5           [-1, 64, 87, 87]               0\n",
      "         MaxPool2d-6           [-1, 64, 43, 43]               0\n",
      "            Conv2d-7          [-1, 128, 41, 41]          73,856\n",
      "              ReLU-8          [-1, 128, 41, 41]               0\n",
      "         MaxPool2d-9          [-1, 128, 20, 20]               0\n",
      "           Conv2d-10          [-1, 256, 18, 18]         295,168\n",
      "             ReLU-11          [-1, 256, 18, 18]               0\n",
      "        MaxPool2d-12            [-1, 256, 9, 9]               0\n",
      "           Conv2d-13            [-1, 256, 7, 7]         590,080\n",
      "             ReLU-14            [-1, 256, 7, 7]               0\n",
      "        Dropout2d-15            [-1, 256, 7, 7]               0\n",
      "          Flatten-16                [-1, 12544]               0\n",
      "           Linear-17                  [-1, 256]       3,211,520\n",
      "             ReLU-18                  [-1, 256]               0\n",
      "        Dropout2d-19                  [-1, 256]               0\n",
      "           Linear-20                    [-1, 2]             514\n",
      "          Softmax-21                    [-1, 2]               0\n",
      "================================================================\n",
      "Total params: 4,190,530\n",
      "Trainable params: 4,190,530\n",
      "Non-trainable params: 0\n",
      "----------------------------------------------------------------\n",
      "Input size (MB): 0.37\n",
      "Forward/backward pass size (MB): 31.19\n",
      "Params size (MB): 15.99\n",
      "Estimated Total Size (MB): 47.54\n",
      "----------------------------------------------------------------\n"
     ]
    },
    {
     "name": "stderr",
     "output_type": "stream",
     "text": [
      "/home/pathetic/anaconda3/envs/torch_hub/lib/python3.12/site-packages/torch/nn/functional.py:1374: UserWarning: dropout2d: Received a 2-D input to dropout2d, which is deprecated and will result in an error in a future release. To retain the behavior and silence this warning, please use dropout instead. Note that dropout2d exists to provide channel-wise dropout on inputs with 2 spatial dimensions, a channel dimension, and an optional batch dimension (i.e. 3D or 4D inputs).\n",
      "  warnings.warn(warn_msg)\n"
     ]
    }
   ],
   "source": [
    "model = Cats_n_Dogs_net(42).to(device)\n",
    "summary(model, (3,180, 180))"
   ]
  },
  {
   "cell_type": "code",
   "execution_count": 9,
   "metadata": {},
   "outputs": [],
   "source": [
    "def accuracy(fx, y):\n",
    "    return (torch.argmax(fx, dim = 1) == y).float().sum()"
   ]
  },
  {
   "cell_type": "code",
   "execution_count": 10,
   "metadata": {},
   "outputs": [],
   "source": [
    "def fit(model, train_data, test_data, loss_fn = nn.CrossEntropyLoss(), optimizer = optim.Adam, epochs = 500):\n",
    "    optimizer = optimizer(model.parameters())\n",
    "    loss_per_epoch = []\n",
    "    acc_per_epoch = []\n",
    "    for e in tqdm(range(epochs)):\n",
    "        running_test_loss = running_train_loss = 0.\n",
    "        test_acc = train_acc = 0.\n",
    "        test_size = train_size = 0\n",
    "        \n",
    "        model.train()\n",
    "        for i, (x_train, y_train) in enumerate(train_data):\n",
    "            x_train = x_train.type(torch.float32).to(device)\n",
    "            y_train = y_train.to(device)\n",
    "            \n",
    "            train_preds = model(x_train)\n",
    "            train_loss = loss_fn(train_preds, y_train)\n",
    "            running_train_loss += train_loss.item()\n",
    "            train_acc += accuracy(train_preds, y_train)\n",
    "            train_size += x_train.shape[0]\n",
    "            optimizer.zero_grad()\n",
    "            train_loss.backward()\n",
    "            optimizer.step()\n",
    "        \n",
    "        model.eval()\n",
    "        with torch.inference_mode():   \n",
    "            for j, (x_test, y_test) in enumerate(test_data):\n",
    "                x_test = x_test.type(torch.float32).to(device)\n",
    "                y_test = y_test.to(device)\n",
    "                test_preds = model(x_test)\n",
    "                running_test_loss += loss_fn(test_preds, y_test)\n",
    "                test_acc += accuracy(test_preds, y_test)\n",
    "                test_size += x_test.shape[0]\n",
    "            print(f\"Progress:\\n\\tTrain loss: {running_train_loss / i} | Train accuracy: {train_acc / train_size}\\n\\t Test loss: {running_test_loss / j} | Test accuracy: {test_acc / test_size}\", end = '\\r')\n",
    "            "
   ]
  },
  {
   "cell_type": "code",
   "execution_count": 11,
   "metadata": {},
   "outputs": [
    {
     "name": "stderr",
     "output_type": "stream",
     "text": [
      "  2%|▏         | 1/50 [00:20<17:01, 20.85s/it]"
     ]
    },
    {
     "name": "stdout",
     "output_type": "stream",
     "text": [
      "Progress:\n",
      "\tTrain loss: 0.7111415687729331 | Train accuracy: 0.5348877310752869\n",
      "\t Test loss: 0.7366393804550171 | Test accuracy: 0.5426056981086731\r"
     ]
    },
    {
     "name": "stderr",
     "output_type": "stream",
     "text": [
      "  4%|▍         | 2/50 [00:40<16:19, 20.40s/it]"
     ]
    },
    {
     "name": "stdout",
     "output_type": "stream",
     "text": [
      "Progress:\n",
      "\tTrain loss: 0.6830433642162996 | Train accuracy: 0.6036345362663269\n",
      "\t Test loss: 0.6914387941360474 | Test accuracy: 0.6268836259841919\r"
     ]
    },
    {
     "name": "stderr",
     "output_type": "stream",
     "text": [
      "  6%|▌         | 3/50 [01:01<15:59, 20.41s/it]"
     ]
    },
    {
     "name": "stdout",
     "output_type": "stream",
     "text": [
      "Progress:\n",
      "\tTrain loss: 0.6650546999538646 | Train accuracy: 0.6278073191642761\n",
      "\t Test loss: 0.6745916604995728 | Test accuracy: 0.6506201028823853\r"
     ]
    },
    {
     "name": "stderr",
     "output_type": "stream",
     "text": [
      "  8%|▊         | 4/50 [01:21<15:39, 20.43s/it]"
     ]
    },
    {
     "name": "stdout",
     "output_type": "stream",
     "text": [
      "Progress:\n",
      "\tTrain loss: 0.6409470526611104 | Train accuracy: 0.6582090854644775\n",
      "\t Test loss: 0.6575915217399597 | Test accuracy: 0.6650220155715942\r"
     ]
    },
    {
     "name": "stderr",
     "output_type": "stream",
     "text": [
      " 10%|█         | 5/50 [01:42<15:21, 20.47s/it]"
     ]
    },
    {
     "name": "stdout",
     "output_type": "stream",
     "text": [
      "Progress:\n",
      "\tTrain loss: 0.6119371249395258 | Train accuracy: 0.6936967968940735\n",
      "\t Test loss: 0.6457648277282715 | Test accuracy: 0.6882250905036926\r"
     ]
    },
    {
     "name": "stderr",
     "output_type": "stream",
     "text": [
      " 12%|█▏        | 6/50 [02:02<15:02, 20.51s/it]"
     ]
    },
    {
     "name": "stdout",
     "output_type": "stream",
     "text": [
      "Progress:\n",
      "\tTrain loss: 0.598270528456744 | Train accuracy: 0.710669219493866\n",
      "\t Test loss: 0.6232707500457764 | Test accuracy: 0.7118282914161682\r"
     ]
    },
    {
     "name": "stderr",
     "output_type": "stream",
     "text": [
      " 14%|█▍        | 7/50 [02:23<14:45, 20.59s/it]"
     ]
    },
    {
     "name": "stdout",
     "output_type": "stream",
     "text": [
      "Progress:\n",
      "\tTrain loss: 0.5746701762956732 | Train accuracy: 0.7354134917259216\n",
      "\t Test loss: 0.6006184816360474 | Test accuracy: 0.7330310940742493\r"
     ]
    },
    {
     "name": "stderr",
     "output_type": "stream",
     "text": [
      " 16%|█▌        | 8/50 [02:43<14:20, 20.49s/it]"
     ]
    },
    {
     "name": "stdout",
     "output_type": "stream",
     "text": [
      "Progress:\n",
      "\tTrain loss: 0.5625975272234749 | Train accuracy: 0.7501000165939331\n",
      "\t Test loss: 0.6041407585144043 | Test accuracy: 0.7319642901420593\r"
     ]
    },
    {
     "name": "stderr",
     "output_type": "stream",
     "text": [
      " 18%|█▊        | 9/50 [03:04<13:57, 20.42s/it]"
     ]
    },
    {
     "name": "stdout",
     "output_type": "stream",
     "text": [
      "Progress:\n",
      "\tTrain loss: 0.5578710691017263 | Train accuracy: 0.7551288604736328\n",
      "\t Test loss: 0.5794642567634583 | Test accuracy: 0.7539672255516052\r"
     ]
    },
    {
     "name": "stderr",
     "output_type": "stream",
     "text": [
      " 20%|██        | 10/50 [03:24<13:36, 20.40s/it]"
     ]
    },
    {
     "name": "stdout",
     "output_type": "stream",
     "text": [
      "Progress:\n",
      "\tTrain loss: 0.5407293114592048 | Train accuracy: 0.7732442021369934\n",
      "\t Test loss: 0.5650185346603394 | Test accuracy: 0.7687692046165466\r"
     ]
    },
    {
     "name": "stderr",
     "output_type": "stream",
     "text": [
      " 22%|██▏       | 11/50 [03:45<13:15, 20.40s/it]"
     ]
    },
    {
     "name": "stdout",
     "output_type": "stream",
     "text": [
      "Progress:\n",
      "\tTrain loss: 0.5301258301033693 | Train accuracy: 0.7860449552536011\n",
      "\t Test loss: 0.5501335859298706 | Test accuracy: 0.7862381935119629\r"
     ]
    },
    {
     "name": "stderr",
     "output_type": "stream",
     "text": [
      " 24%|██▍       | 12/50 [04:05<12:54, 20.39s/it]"
     ]
    },
    {
     "name": "stdout",
     "output_type": "stream",
     "text": [
      "Progress:\n",
      "\tTrain loss: 0.5185237307758892 | Train accuracy: 0.7981598973274231\n",
      "\t Test loss: 0.5548650622367859 | Test accuracy: 0.7817042469978333\r"
     ]
    },
    {
     "name": "stderr",
     "output_type": "stream",
     "text": [
      " 26%|██▌       | 13/50 [04:26<12:37, 20.48s/it]"
     ]
    },
    {
     "name": "stdout",
     "output_type": "stream",
     "text": [
      "Progress:\n",
      "\tTrain loss: 0.5123467568088981 | Train accuracy: 0.8065032362937927\n",
      "\t Test loss: 0.5266568660736084 | Test accuracy: 0.8130417466163635\r"
     ]
    },
    {
     "name": "stderr",
     "output_type": "stream",
     "text": [
      " 28%|██▊       | 14/50 [04:46<12:17, 20.50s/it]"
     ]
    },
    {
     "name": "stdout",
     "output_type": "stream",
     "text": [
      "Progress:\n",
      "\tTrain loss: 0.5007637870662353 | Train accuracy: 0.8194754123687744\n",
      "\t Test loss: 0.525129497051239 | Test accuracy: 0.8113082051277161\r"
     ]
    },
    {
     "name": "stderr",
     "output_type": "stream",
     "text": [
      " 30%|███       | 15/50 [05:07<12:00, 20.58s/it]"
     ]
    },
    {
     "name": "stdout",
     "output_type": "stream",
     "text": [
      "Progress:\n",
      "\tTrain loss: 0.4895942430285847 | Train accuracy: 0.8283330798149109\n",
      "\t Test loss: 0.5182669162750244 | Test accuracy: 0.8181090950965881\r"
     ]
    },
    {
     "name": "stderr",
     "output_type": "stream",
     "text": [
      " 32%|███▏      | 16/50 [05:27<11:35, 20.45s/it]"
     ]
    },
    {
     "name": "stdout",
     "output_type": "stream",
     "text": [
      "Progress:\n",
      "\tTrain loss: 0.4813130375216989 | Train accuracy: 0.8387908339500427\n",
      "\t Test loss: 0.5295454263687134 | Test accuracy: 0.8071743249893188\r"
     ]
    },
    {
     "name": "stderr",
     "output_type": "stream",
     "text": [
      " 34%|███▍      | 17/50 [05:48<11:15, 20.47s/it]"
     ]
    },
    {
     "name": "stdout",
     "output_type": "stream",
     "text": [
      "Progress:\n",
      "\tTrain loss: 0.47728481012232166 | Train accuracy: 0.841590940952301\n",
      "\t Test loss: 0.500531792640686 | Test accuracy: 0.8397119641304016\r"
     ]
    },
    {
     "name": "stderr",
     "output_type": "stream",
     "text": [
      " 36%|███▌      | 18/50 [06:08<10:52, 20.39s/it]"
     ]
    },
    {
     "name": "stdout",
     "output_type": "stream",
     "text": [
      "Progress:\n",
      "\tTrain loss: 0.47028472581330466 | Train accuracy: 0.8486770987510681\n",
      "\t Test loss: 0.5063269138336182 | Test accuracy: 0.831710934638977\r"
     ]
    },
    {
     "name": "stderr",
     "output_type": "stream",
     "text": [
      " 38%|███▊      | 19/50 [06:28<10:35, 20.49s/it]"
     ]
    },
    {
     "name": "stdout",
     "output_type": "stream",
     "text": [
      "Progress:\n",
      "\tTrain loss: 0.4664141816251418 | Train accuracy: 0.8529630303382874\n",
      "\t Test loss: 0.4923287332057953 | Test accuracy: 0.8453127145767212\r"
     ]
    },
    {
     "name": "stderr",
     "output_type": "stream",
     "text": [
      " 40%|████      | 20/50 [06:49<10:14, 20.50s/it]"
     ]
    },
    {
     "name": "stdout",
     "output_type": "stream",
     "text": [
      "Progress:\n",
      "\tTrain loss: 0.45848569975179787 | Train accuracy: 0.8626207709312439\n",
      "\t Test loss: 0.5038517713546753 | Test accuracy: 0.8334444761276245\r"
     ]
    },
    {
     "name": "stderr",
     "output_type": "stream",
     "text": [
      " 42%|████▏     | 21/50 [07:09<09:54, 20.49s/it]"
     ]
    },
    {
     "name": "stdout",
     "output_type": "stream",
     "text": [
      "Progress:\n",
      "\tTrain loss: 0.45640787832877217 | Train accuracy: 0.8636493682861328\n",
      "\t Test loss: 0.4930516183376312 | Test accuracy: 0.8465129137039185\r"
     ]
    },
    {
     "name": "stderr",
     "output_type": "stream",
     "text": [
      " 44%|████▍     | 22/50 [07:30<09:34, 20.53s/it]"
     ]
    },
    {
     "name": "stdout",
     "output_type": "stream",
     "text": [
      "Progress:\n",
      "\tTrain loss: 0.4598664518664865 | Train accuracy: 0.861134946346283\n",
      "\t Test loss: 0.4890144169330597 | Test accuracy: 0.8473129868507385\r"
     ]
    },
    {
     "name": "stderr",
     "output_type": "stream",
     "text": [
      " 46%|████▌     | 23/50 [07:51<09:16, 20.61s/it]"
     ]
    },
    {
     "name": "stdout",
     "output_type": "stream",
     "text": [
      "Progress:\n",
      "\tTrain loss: 0.44971056194866404 | Train accuracy: 0.8710212111473083\n",
      "\t Test loss: 0.5031337738037109 | Test accuracy: 0.8347780108451843\r"
     ]
    },
    {
     "name": "stderr",
     "output_type": "stream",
     "text": [
      " 48%|████▊     | 24/50 [08:11<08:53, 20.53s/it]"
     ]
    },
    {
     "name": "stdout",
     "output_type": "stream",
     "text": [
      "Progress:\n",
      "\tTrain loss: 0.44508307646302614 | Train accuracy: 0.8749071359634399\n",
      "\t Test loss: 0.4780619442462921 | Test accuracy: 0.8586478233337402\r"
     ]
    },
    {
     "name": "stderr",
     "output_type": "stream",
     "text": [
      " 50%|█████     | 25/50 [08:32<08:33, 20.54s/it]"
     ]
    },
    {
     "name": "stdout",
     "output_type": "stream",
     "text": [
      "Progress:\n",
      "\tTrain loss: 0.43687203789458556 | Train accuracy: 0.8850791454315186\n",
      "\t Test loss: 0.49023422598838806 | Test accuracy: 0.8467795848846436\r"
     ]
    },
    {
     "name": "stderr",
     "output_type": "stream",
     "text": [
      " 52%|█████▏    | 26/50 [08:53<08:15, 20.65s/it]"
     ]
    },
    {
     "name": "stdout",
     "output_type": "stream",
     "text": [
      "Progress:\n",
      "\tTrain loss: 0.436979179873186 | Train accuracy: 0.8844505548477173\n",
      "\t Test loss: 0.47813814878463745 | Test accuracy: 0.8606480956077576\r"
     ]
    },
    {
     "name": "stderr",
     "output_type": "stream",
     "text": [
      " 54%|█████▍    | 27/50 [09:13<07:54, 20.64s/it]"
     ]
    },
    {
     "name": "stdout",
     "output_type": "stream",
     "text": [
      "Progress:\n",
      "\tTrain loss: 0.4318649462040733 | Train accuracy: 0.8888508081436157\n",
      "\t Test loss: 0.4730978012084961 | Test accuracy: 0.8641152381896973\r"
     ]
    },
    {
     "name": "stderr",
     "output_type": "stream",
     "text": [
      " 56%|█████▌    | 28/50 [09:34<07:34, 20.65s/it]"
     ]
    },
    {
     "name": "stdout",
     "output_type": "stream",
     "text": [
      "Progress:\n",
      "\tTrain loss: 0.4219725649146473 | Train accuracy: 0.9005657434463501\n",
      "\t Test loss: 0.4726446270942688 | Test accuracy: 0.865982174873352\r"
     ]
    },
    {
     "name": "stderr",
     "output_type": "stream",
     "text": [
      " 58%|█████▊    | 29/50 [09:55<07:13, 20.65s/it]"
     ]
    },
    {
     "name": "stdout",
     "output_type": "stream",
     "text": [
      "Progress:\n",
      "\tTrain loss: 0.422270251547589 | Train accuracy: 0.8980513215065002\n",
      "\t Test loss: 0.4624493420124054 | Test accuracy: 0.8758501410484314\r"
     ]
    },
    {
     "name": "stderr",
     "output_type": "stream",
     "text": [
      " 60%|██████    | 30/50 [10:15<06:50, 20.55s/it]"
     ]
    },
    {
     "name": "stdout",
     "output_type": "stream",
     "text": [
      "Progress:\n",
      "\tTrain loss: 0.41549651149441214 | Train accuracy: 0.9062803983688354\n",
      "\t Test loss: 0.46395522356033325 | Test accuracy: 0.8746500015258789\r"
     ]
    },
    {
     "name": "stderr",
     "output_type": "stream",
     "text": [
      " 62%|██████▏   | 31/50 [10:36<06:30, 20.58s/it]"
     ]
    },
    {
     "name": "stdout",
     "output_type": "stream",
     "text": [
      "Progress:\n",
      "\tTrain loss: 0.4160904691499822 | Train accuracy: 0.9050231575965881\n",
      "\t Test loss: 0.4589424729347229 | Test accuracy: 0.8799840211868286\r"
     ]
    },
    {
     "name": "stderr",
     "output_type": "stream",
     "text": [
      " 64%|██████▍   | 32/50 [10:56<06:11, 20.63s/it]"
     ]
    },
    {
     "name": "stdout",
     "output_type": "stream",
     "text": [
      "Progress:\n",
      "\tTrain loss: 0.40633199583081636 | Train accuracy: 0.915309488773346\n",
      "\t Test loss: 0.4635559618473053 | Test accuracy: 0.8739832043647766\r"
     ]
    },
    {
     "name": "stderr",
     "output_type": "stream",
     "text": [
      " 66%|██████▌   | 33/50 [11:17<05:50, 20.63s/it]"
     ]
    },
    {
     "name": "stdout",
     "output_type": "stream",
     "text": [
      "Progress:\n",
      "\tTrain loss: 0.40600840659702525 | Train accuracy: 0.9163952469825745\n",
      "\t Test loss: 0.46159279346466064 | Test accuracy: 0.8786504864692688\r"
     ]
    },
    {
     "name": "stderr",
     "output_type": "stream",
     "text": [
      " 68%|██████▊   | 34/50 [11:37<05:28, 20.55s/it]"
     ]
    },
    {
     "name": "stdout",
     "output_type": "stream",
     "text": [
      "Progress:\n",
      "\tTrain loss: 0.4016455227837843 | Train accuracy: 0.921595573425293\n",
      "\t Test loss: 0.4534924626350403 | Test accuracy: 0.8839845657348633\r"
     ]
    },
    {
     "name": "stderr",
     "output_type": "stream",
     "text": [
      " 70%|███████   | 35/50 [11:58<05:07, 20.52s/it]"
     ]
    },
    {
     "name": "stdout",
     "output_type": "stream",
     "text": [
      "Progress:\n",
      "\tTrain loss: 0.39987315763445463 | Train accuracy: 0.921938419342041\n",
      "\t Test loss: 0.4545004367828369 | Test accuracy: 0.8823843598365784\r"
     ]
    },
    {
     "name": "stderr",
     "output_type": "stream",
     "text": [
      " 72%|███████▏  | 36/50 [12:18<04:47, 20.52s/it]"
     ]
    },
    {
     "name": "stdout",
     "output_type": "stream",
     "text": [
      "Progress:\n",
      "\tTrain loss: 0.4013633333584842 | Train accuracy: 0.9220527410507202\n",
      "\t Test loss: 0.46747952699661255 | Test accuracy: 0.868915855884552\r"
     ]
    },
    {
     "name": "stderr",
     "output_type": "stream",
     "text": [
      " 74%|███████▍  | 37/50 [12:39<04:26, 20.52s/it]"
     ]
    },
    {
     "name": "stdout",
     "output_type": "stream",
     "text": [
      "Progress:\n",
      "\tTrain loss: 0.39652984720819134 | Train accuracy: 0.9246242642402649\n",
      "\t Test loss: 0.4560621678829193 | Test accuracy: 0.8817175626754761\r"
     ]
    },
    {
     "name": "stderr",
     "output_type": "stream",
     "text": [
      " 76%|███████▌  | 38/50 [13:00<04:07, 20.60s/it]"
     ]
    },
    {
     "name": "stdout",
     "output_type": "stream",
     "text": [
      "Progress:\n",
      "\tTrain loss: 0.39905737515758066 | Train accuracy: 0.9233099222183228\n",
      "\t Test loss: 0.45262259244918823 | Test accuracy: 0.8855847716331482\r"
     ]
    },
    {
     "name": "stderr",
     "output_type": "stream",
     "text": [
      " 78%|███████▊  | 39/50 [13:20<03:46, 20.58s/it]"
     ]
    },
    {
     "name": "stdout",
     "output_type": "stream",
     "text": [
      "Progress:\n",
      "\tTrain loss: 0.39189957520541024 | Train accuracy: 0.931538999080658\n",
      "\t Test loss: 0.45166221261024475 | Test accuracy: 0.887451708316803\r"
     ]
    },
    {
     "name": "stderr",
     "output_type": "stream",
     "text": [
      " 80%|████████  | 40/50 [13:41<03:26, 20.61s/it]"
     ]
    },
    {
     "name": "stdout",
     "output_type": "stream",
     "text": [
      "Progress:\n",
      "\tTrain loss: 0.38956483584993024 | Train accuracy: 0.931538999080658\n",
      "\t Test loss: 0.4514645040035248 | Test accuracy: 0.8871849775314331\r"
     ]
    },
    {
     "name": "stderr",
     "output_type": "stream",
     "text": [
      " 82%|████████▏ | 41/50 [14:01<03:05, 20.60s/it]"
     ]
    },
    {
     "name": "stdout",
     "output_type": "stream",
     "text": [
      "Progress:\n",
      "\tTrain loss: 0.3872317233506371 | Train accuracy: 0.9354820251464844\n",
      "\t Test loss: 0.4631683826446533 | Test accuracy: 0.8741165995597839\r"
     ]
    },
    {
     "name": "stderr",
     "output_type": "stream",
     "text": [
      " 84%|████████▍ | 42/50 [14:22<02:43, 20.48s/it]"
     ]
    },
    {
     "name": "stdout",
     "output_type": "stream",
     "text": [
      "Progress:\n",
      "\tTrain loss: 0.3897772028165705 | Train accuracy: 0.9319390058517456\n",
      "\t Test loss: 0.443942666053772 | Test accuracy: 0.8938525319099426\r"
     ]
    },
    {
     "name": "stderr",
     "output_type": "stream",
     "text": [
      " 86%|████████▌ | 43/50 [14:41<02:21, 20.28s/it]"
     ]
    },
    {
     "name": "stdout",
     "output_type": "stream",
     "text": [
      "Progress:\n",
      "\tTrain loss: 0.38308780771844525 | Train accuracy: 0.9393680095672607\n",
      "\t Test loss: 0.4521996080875397 | Test accuracy: 0.8847846388816833\r"
     ]
    },
    {
     "name": "stderr",
     "output_type": "stream",
     "text": [
      " 88%|████████▊ | 44/50 [15:02<02:01, 20.33s/it]"
     ]
    },
    {
     "name": "stdout",
     "output_type": "stream",
     "text": [
      "Progress:\n",
      "\tTrain loss: 0.3802995567812639 | Train accuracy: 0.9429110288619995\n",
      "\t Test loss: 0.44500574469566345 | Test accuracy: 0.8930524587631226\r"
     ]
    },
    {
     "name": "stderr",
     "output_type": "stream",
     "text": [
      " 90%|█████████ | 45/50 [15:23<01:42, 20.47s/it]"
     ]
    },
    {
     "name": "stdout",
     "output_type": "stream",
     "text": [
      "Progress:\n",
      "\tTrain loss: 0.37732454959084005 | Train accuracy: 0.9443968534469604\n",
      "\t Test loss: 0.4466803967952728 | Test accuracy: 0.8927857279777527\r"
     ]
    },
    {
     "name": "stderr",
     "output_type": "stream",
     "text": [
      " 92%|█████████▏| 46/50 [15:43<01:21, 20.36s/it]"
     ]
    },
    {
     "name": "stdout",
     "output_type": "stream",
     "text": [
      "Progress:\n",
      "\tTrain loss: 0.3744533105808146 | Train accuracy: 0.948111355304718\n",
      "\t Test loss: 0.44999319314956665 | Test accuracy: 0.8903853893280029\r"
     ]
    },
    {
     "name": "stderr",
     "output_type": "stream",
     "text": [
      " 94%|█████████▍| 47/50 [16:02<00:59, 19.89s/it]"
     ]
    },
    {
     "name": "stdout",
     "output_type": "stream",
     "text": [
      "Progress:\n",
      "\tTrain loss: 0.37116781665998344 | Train accuracy: 0.9505686163902283\n",
      "\t Test loss: 0.44764310121536255 | Test accuracy: 0.8909187912940979\r"
     ]
    },
    {
     "name": "stderr",
     "output_type": "stream",
     "text": [
      " 96%|█████████▌| 48/50 [16:21<00:39, 19.76s/it]"
     ]
    },
    {
     "name": "stdout",
     "output_type": "stream",
     "text": [
      "Progress:\n",
      "\tTrain loss: 0.3723902982823989 | Train accuracy: 0.9498257040977478\n",
      "\t Test loss: 0.4484764635562897 | Test accuracy: 0.8909187912940979\r"
     ]
    },
    {
     "name": "stderr",
     "output_type": "stream",
     "text": [
      " 98%|█████████▊| 49/50 [16:41<00:19, 19.70s/it]"
     ]
    },
    {
     "name": "stdout",
     "output_type": "stream",
     "text": [
      "Progress:\n",
      "\tTrain loss: 0.3687946989255793 | Train accuracy: 0.9549117088317871\n",
      "\t Test loss: 0.43853330612182617 | Test accuracy: 0.9009201526641846\r"
     ]
    },
    {
     "name": "stderr",
     "output_type": "stream",
     "text": [
      "100%|██████████| 50/50 [17:00<00:00, 20.41s/it]"
     ]
    },
    {
     "name": "stdout",
     "output_type": "stream",
     "text": [
      "Progress:\n",
      "\tTrain loss: 0.3678039689274395 | Train accuracy: 0.9564546942710876\n",
      "\t Test loss: 0.4443427622318268 | Test accuracy: 0.8937191963195801\r"
     ]
    },
    {
     "name": "stderr",
     "output_type": "stream",
     "text": [
      "\n"
     ]
    }
   ],
   "source": [
    "import warnings\n",
    "warnings.simplefilter(\"ignore\")\n",
    "gc.collect()\n",
    "torch.cuda.empty_cache()\n",
    "fit(model, train_loader, test_loader, epochs=50)"
   ]
  },
  {
   "cell_type": "markdown",
   "metadata": {},
   "source": [
    "torch.save(model.state_dict(), \"cnd_v2_89_acc.pt\")"
   ]
  }
 ],
 "metadata": {
  "kernelspec": {
   "display_name": "base",
   "language": "python",
   "name": "python3"
  },
  "language_info": {
   "codemirror_mode": {
    "name": "ipython",
    "version": 3
   },
   "file_extension": ".py",
   "mimetype": "text/x-python",
   "name": "python",
   "nbconvert_exporter": "python",
   "pygments_lexer": "ipython3",
   "version": "3.12.4"
  }
 },
 "nbformat": 4,
 "nbformat_minor": 2
}
