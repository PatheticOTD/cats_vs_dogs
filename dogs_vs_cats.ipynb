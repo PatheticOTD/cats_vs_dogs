{
 "cells": [
  {
   "cell_type": "code",
   "execution_count": 1,
   "metadata": {},
   "outputs": [],
   "source": [
    "import torch\n",
    "import torch.nn as nn\n",
    "import torch.nn.functional as F\n",
    "import torch.optim as optim\n",
    "from torch.utils.data import DataLoader, random_split\n",
    "from torchvision import datasets, transforms\n",
    "from torchvision.transforms import v2\n",
    "import matplotlib.pyplot as plt\n",
    "from sklearn.model_selection import train_test_split\n",
    "import pandas as pd\n",
    "import numpy as np\n",
    "import pickle\n",
    "import gc\n",
    "import os\n",
    "from tqdm import tqdm\n",
    "from torchsummary import summary\n",
    "\n",
    "import cnn_models"
   ]
  },
  {
   "cell_type": "code",
   "execution_count": 2,
   "metadata": {},
   "outputs": [
    {
     "data": {
      "text/plain": [
       "<torch._C.Generator at 0x7fd9bb541830>"
      ]
     },
     "execution_count": 2,
     "metadata": {},
     "output_type": "execute_result"
    }
   ],
   "source": [
    "torch.manual_seed(42)"
   ]
  },
  {
   "cell_type": "code",
   "execution_count": 3,
   "metadata": {},
   "outputs": [
    {
     "data": {
      "text/plain": [
       "'cuda'"
      ]
     },
     "execution_count": 3,
     "metadata": {},
     "output_type": "execute_result"
    }
   ],
   "source": [
    "device = 'cuda' if torch.cuda.is_available() else 'cpu'\n",
    "device"
   ]
  },
  {
   "cell_type": "code",
   "execution_count": 4,
   "metadata": {},
   "outputs": [],
   "source": [
    "data_transform = v2.Compose([\n",
    "    v2.Resize((180, 180)),\n",
    "    v2.ToImage(),\n",
    "    v2.ToDtype(torch.float32, scale=True),\n",
    "    v2.Normalize([0.5], [0.5]),\n",
    "    v2.RandomInvert() \n",
    "])"
   ]
  },
  {
   "cell_type": "code",
   "execution_count": 5,
   "metadata": {},
   "outputs": [],
   "source": [
    "data = datasets.ImageFolder(\"/home/pathetic/Documents/torch_masters/data/kagglecatsanddogs_5340/PetImages\", transform = data_transform)"
   ]
  },
  {
   "cell_type": "code",
   "execution_count": 6,
   "metadata": {},
   "outputs": [],
   "source": [
    "torch.manual_seed(42)\n",
    "train_data, test_data = random_split(data, [.7, .3])\n",
    "train_loader = DataLoader(dataset= train_data, num_workers= 12, batch_size= 256, shuffle= True)\n",
    "test_loader  = DataLoader(dataset= test_data,  num_workers= 12, batch_size= 256, shuffle= True)"
   ]
  },
  {
   "cell_type": "code",
   "execution_count": 7,
   "metadata": {},
   "outputs": [
    {
     "name": "stdout",
     "output_type": "stream",
     "text": [
      "----------------------------------------------------------------\n",
      "        Layer (type)               Output Shape         Param #\n",
      "================================================================\n",
      "            Conv2d-1         [-1, 32, 178, 178]             896\n",
      "              ReLU-2         [-1, 32, 178, 178]               0\n",
      "         MaxPool2d-3           [-1, 32, 89, 89]               0\n",
      "            Conv2d-4           [-1, 64, 87, 87]          18,496\n",
      "              ReLU-5           [-1, 64, 87, 87]               0\n",
      "         MaxPool2d-6           [-1, 64, 43, 43]               0\n",
      "            Conv2d-7          [-1, 128, 41, 41]          73,856\n",
      "              ReLU-8          [-1, 128, 41, 41]               0\n",
      "         MaxPool2d-9          [-1, 128, 20, 20]               0\n",
      "           Conv2d-10          [-1, 256, 18, 18]         295,168\n",
      "             ReLU-11          [-1, 256, 18, 18]               0\n",
      "        MaxPool2d-12            [-1, 256, 9, 9]               0\n",
      "           Conv2d-13            [-1, 256, 7, 7]         590,080\n",
      "             ReLU-14            [-1, 256, 7, 7]               0\n",
      "        Dropout2d-15            [-1, 256, 7, 7]               0\n",
      "          Flatten-16                [-1, 12544]               0\n",
      "           Linear-17                  [-1, 256]       3,211,520\n",
      "             ReLU-18                  [-1, 256]               0\n",
      "        Dropout2d-19                  [-1, 256]               0\n",
      "           Linear-20                    [-1, 2]             514\n",
      "          Softmax-21                    [-1, 2]               0\n",
      "================================================================\n",
      "Total params: 4,190,530\n",
      "Trainable params: 4,190,530\n",
      "Non-trainable params: 0\n",
      "----------------------------------------------------------------\n",
      "Input size (MB): 0.37\n",
      "Forward/backward pass size (MB): 31.19\n",
      "Params size (MB): 15.99\n",
      "Estimated Total Size (MB): 47.54\n",
      "----------------------------------------------------------------\n"
     ]
    },
    {
     "name": "stderr",
     "output_type": "stream",
     "text": [
      "/home/pathetic/anaconda3/envs/torch_hub/lib/python3.12/site-packages/torch/nn/functional.py:1374: UserWarning: dropout2d: Received a 2-D input to dropout2d, which is deprecated and will result in an error in a future release. To retain the behavior and silence this warning, please use dropout instead. Note that dropout2d exists to provide channel-wise dropout on inputs with 2 spatial dimensions, a channel dimension, and an optional batch dimension (i.e. 3D or 4D inputs).\n",
      "  warnings.warn(warn_msg)\n"
     ]
    }
   ],
   "source": [
    "model_1 = cnn_models.CNN_casual(42).to(device)\n",
    "summary(model_1, (3,180, 180))"
   ]
  },
  {
   "cell_type": "code",
   "execution_count": 8,
   "metadata": {},
   "outputs": [
    {
     "name": "stdout",
     "output_type": "stream",
     "text": [
      "----------------------------------------------------------------\n",
      "        Layer (type)               Output Shape         Param #\n",
      "================================================================\n",
      "            Conv2d-1         [-1, 32, 178, 178]             896\n",
      "              ReLU-2         [-1, 32, 178, 178]               0\n",
      "            Conv2d-3         [-1, 32, 178, 178]           1,056\n",
      "              ReLU-4         [-1, 32, 178, 178]               0\n",
      "            Conv2d-5         [-1, 32, 178, 178]           1,056\n",
      "              ReLU-6         [-1, 32, 178, 178]               0\n",
      "         MaxPool2d-7           [-1, 32, 89, 89]               0\n",
      "            Conv2d-8           [-1, 64, 87, 87]          18,496\n",
      "              ReLU-9           [-1, 64, 87, 87]               0\n",
      "           Conv2d-10           [-1, 64, 87, 87]           4,160\n",
      "             ReLU-11           [-1, 64, 87, 87]               0\n",
      "           Conv2d-12           [-1, 64, 87, 87]           4,160\n",
      "             ReLU-13           [-1, 64, 87, 87]               0\n",
      "        MaxPool2d-14           [-1, 64, 43, 43]               0\n",
      "           Conv2d-15          [-1, 128, 41, 41]          73,856\n",
      "             ReLU-16          [-1, 128, 41, 41]               0\n",
      "           Conv2d-17          [-1, 128, 41, 41]          16,512\n",
      "             ReLU-18          [-1, 128, 41, 41]               0\n",
      "           Conv2d-19          [-1, 128, 41, 41]          16,512\n",
      "             ReLU-20          [-1, 128, 41, 41]               0\n",
      "        MaxPool2d-21          [-1, 128, 20, 20]               0\n",
      "           Conv2d-22          [-1, 256, 18, 18]         295,168\n",
      "             ReLU-23          [-1, 256, 18, 18]               0\n",
      "           Conv2d-24          [-1, 256, 18, 18]          65,792\n",
      "             ReLU-25          [-1, 256, 18, 18]               0\n",
      "           Conv2d-26          [-1, 256, 18, 18]          65,792\n",
      "             ReLU-27          [-1, 256, 18, 18]               0\n",
      "        MaxPool2d-28            [-1, 256, 9, 9]               0\n",
      "           Conv2d-29            [-1, 256, 7, 7]         590,080\n",
      "             ReLU-30            [-1, 256, 7, 7]               0\n",
      "           Conv2d-31            [-1, 256, 7, 7]          65,792\n",
      "             ReLU-32            [-1, 256, 7, 7]               0\n",
      "           Conv2d-33            [-1, 256, 7, 7]          65,792\n",
      "             ReLU-34            [-1, 256, 7, 7]               0\n",
      "        MaxPool2d-35            [-1, 256, 3, 3]               0\n",
      "           Conv2d-36              [-1, 2, 1, 1]           4,610\n",
      "             ReLU-37              [-1, 2, 1, 1]               0\n",
      "           Conv2d-38              [-1, 2, 1, 1]               6\n",
      "             ReLU-39              [-1, 2, 1, 1]               0\n",
      "           Conv2d-40              [-1, 2, 1, 1]               6\n",
      "             ReLU-41              [-1, 2, 1, 1]               0\n",
      "AdaptiveAvgPool2d-42              [-1, 2, 1, 1]               0\n",
      "          Flatten-43                    [-1, 2]               0\n",
      "          Softmax-44                    [-1, 2]               0\n",
      "================================================================\n",
      "Total params: 1,289,742\n",
      "Trainable params: 1,289,742\n",
      "Non-trainable params: 0\n",
      "----------------------------------------------------------------\n",
      "Input size (MB): 0.37\n",
      "Forward/backward pass size (MB): 86.21\n",
      "Params size (MB): 4.92\n",
      "Estimated Total Size (MB): 91.50\n",
      "----------------------------------------------------------------\n"
     ]
    }
   ],
   "source": [
    "model_2 = cnn_models.CNN_nin().to(device)\n",
    "summary(model_2, (3, 180, 180))"
   ]
  },
  {
   "cell_type": "code",
   "execution_count": 9,
   "metadata": {},
   "outputs": [
    {
     "name": "stdout",
     "output_type": "stream",
     "text": [
      "----------------------------------------------------------------\n",
      "        Layer (type)               Output Shape         Param #\n",
      "================================================================\n",
      "            Conv2d-1         [-1, 32, 178, 178]             896\n",
      "       BatchNorm2d-2         [-1, 32, 178, 178]              64\n",
      "              ReLU-3         [-1, 32, 178, 178]               0\n",
      "         MaxPool2d-4           [-1, 32, 89, 89]               0\n",
      "            Conv2d-5           [-1, 64, 87, 87]          18,496\n",
      "       BatchNorm2d-6           [-1, 64, 87, 87]             128\n",
      "              ReLU-7           [-1, 64, 87, 87]               0\n",
      "         MaxPool2d-8           [-1, 64, 43, 43]               0\n",
      "            Conv2d-9          [-1, 128, 41, 41]          73,856\n",
      "      BatchNorm2d-10          [-1, 128, 41, 41]             256\n",
      "             ReLU-11          [-1, 128, 41, 41]               0\n",
      "        MaxPool2d-12          [-1, 128, 20, 20]               0\n",
      "           Conv2d-13          [-1, 256, 18, 18]         295,168\n",
      "      BatchNorm2d-14          [-1, 256, 18, 18]             512\n",
      "             ReLU-15          [-1, 256, 18, 18]               0\n",
      "        MaxPool2d-16            [-1, 256, 9, 9]               0\n",
      "           Conv2d-17            [-1, 256, 7, 7]         590,080\n",
      "      BatchNorm2d-18            [-1, 256, 7, 7]             512\n",
      "             ReLU-19            [-1, 256, 7, 7]               0\n",
      "        Dropout2d-20            [-1, 256, 7, 7]               0\n",
      "          Flatten-21                [-1, 12544]               0\n",
      "           Linear-22                  [-1, 256]       3,211,520\n",
      "      BatchNorm1d-23                  [-1, 256]             512\n",
      "             ReLU-24                  [-1, 256]               0\n",
      "        Dropout2d-25                  [-1, 256]               0\n",
      "           Linear-26                    [-1, 2]             514\n",
      "      BatchNorm1d-27                    [-1, 2]               4\n",
      "          Softmax-28                    [-1, 2]               0\n",
      "================================================================\n",
      "Total params: 4,192,518\n",
      "Trainable params: 4,192,518\n",
      "Non-trainable params: 0\n",
      "----------------------------------------------------------------\n",
      "Input size (MB): 0.37\n",
      "Forward/backward pass size (MB): 44.99\n",
      "Params size (MB): 15.99\n",
      "Estimated Total Size (MB): 61.35\n",
      "----------------------------------------------------------------\n"
     ]
    }
   ],
   "source": [
    "model_3 = cnn_models.CNN_casual_norm(42).to(device)\n",
    "summary(model_3, (3, 180, 180))"
   ]
  },
  {
   "cell_type": "code",
   "execution_count": 10,
   "metadata": {},
   "outputs": [],
   "source": [
    "def accuracy(fx, y):\n",
    "    return (torch.argmax(fx, dim = 1) == y).float().sum()"
   ]
  },
  {
   "cell_type": "code",
   "execution_count": 11,
   "metadata": {},
   "outputs": [],
   "source": [
    "def fit(model, train_data, test_data, loss_fn = nn.CrossEntropyLoss(), optimizer = optim.Adam, epochs = 500):\n",
    "    optimizer = optimizer(model.parameters())\n",
    "    loss_per_epoch = []\n",
    "    acc_per_epoch = []\n",
    "    for e in tqdm(range(epochs)):\n",
    "        running_test_loss = running_train_loss = 0.\n",
    "        test_acc = train_acc = 0.\n",
    "        test_size = train_size = 0\n",
    "        \n",
    "        model.train()\n",
    "        for i, (x_train, y_train) in enumerate(train_data):\n",
    "            x_train = x_train.type(torch.float32).to(device)\n",
    "            y_train = y_train.to(device)\n",
    "            \n",
    "            train_preds = model(x_train)\n",
    "            train_loss = loss_fn(train_preds, y_train)\n",
    "            running_train_loss += train_loss.item()\n",
    "            train_acc += accuracy(train_preds, y_train)\n",
    "            train_size += x_train.shape[0]\n",
    "            optimizer.zero_grad()\n",
    "            train_loss.backward()\n",
    "            optimizer.step()\n",
    "        \n",
    "        model.eval()\n",
    "        with torch.inference_mode():   \n",
    "            for j, (x_test, y_test) in enumerate(test_data):\n",
    "                x_test = x_test.type(torch.float32).to(device)\n",
    "                y_test = y_test.to(device)\n",
    "                test_preds = model(x_test)\n",
    "                running_test_loss += loss_fn(test_preds, y_test)\n",
    "                test_acc += accuracy(test_preds, y_test)\n",
    "                test_size += x_test.shape[0]\n",
    "            print(f\"Progress:\\n\\tTrain loss: {running_train_loss / i} | Train accuracy: {train_acc / train_size}\\n\\t Test loss: {running_test_loss / j} | Test accuracy: {test_acc / test_size}\", end = '\\r')\n",
    "            "
   ]
  },
  {
   "cell_type": "code",
   "execution_count": 12,
   "metadata": {},
   "outputs": [
    {
     "name": "stderr",
     "output_type": "stream",
     "text": [
      "  2%|▏         | 1/50 [00:22<18:28, 22.63s/it]"
     ]
    },
    {
     "name": "stdout",
     "output_type": "stream",
     "text": [
      "Progress:\n",
      "\tTrain loss: 0.6495964439476237 | Train accuracy: 0.6378650665283203\n",
      "\t Test loss: 0.6859535574913025 | Test accuracy: 0.6095479726791382\r"
     ]
    },
    {
     "name": "stderr",
     "output_type": "stream",
     "text": [
      "  4%|▍         | 2/50 [00:45<18:03, 22.58s/it]"
     ]
    },
    {
     "name": "stdout",
     "output_type": "stream",
     "text": [
      "Progress:\n",
      "\tTrain loss: 0.5853381183217553 | Train accuracy: 0.7279844880104065\n",
      "\t Test loss: 0.6794784665107727 | Test accuracy: 0.6050140261650085\r"
     ]
    },
    {
     "name": "stderr",
     "output_type": "stream",
     "text": [
      "  6%|▌         | 3/50 [01:07<17:43, 22.62s/it]"
     ]
    },
    {
     "name": "stdout",
     "output_type": "stream",
     "text": [
      "Progress:\n",
      "\tTrain loss: 0.5488510841832441 | Train accuracy: 0.7758729457855225\n",
      "\t Test loss: 0.5680448412895203 | Test accuracy: 0.756367564201355\r"
     ]
    },
    {
     "name": "stderr",
     "output_type": "stream",
     "text": [
      "  8%|▊         | 4/50 [01:30<17:16, 22.52s/it]"
     ]
    },
    {
     "name": "stdout",
     "output_type": "stream",
     "text": [
      "Progress:\n",
      "\tTrain loss: 0.5214958524002749 | Train accuracy: 0.8090748190879822\n",
      "\t Test loss: 0.5906581878662109 | Test accuracy: 0.7162288427352905\r"
     ]
    },
    {
     "name": "stderr",
     "output_type": "stream",
     "text": [
      " 10%|█         | 5/50 [01:52<16:50, 22.45s/it]"
     ]
    },
    {
     "name": "stdout",
     "output_type": "stream",
     "text": [
      "Progress:\n",
      "\tTrain loss: 0.5055847877965254 | Train accuracy: 0.8242756724357605\n",
      "\t Test loss: 0.553654134273529 | Test accuracy: 0.7693026065826416\r"
     ]
    },
    {
     "name": "stderr",
     "output_type": "stream",
     "text": [
      " 12%|█▏        | 6/50 [02:14<16:26, 22.42s/it]"
     ]
    },
    {
     "name": "stdout",
     "output_type": "stream",
     "text": [
      "Progress:\n",
      "\tTrain loss: 0.49379977408577413 | Train accuracy: 0.8347905874252319\n",
      "\t Test loss: 0.5204214453697205 | Test accuracy: 0.8086411952972412\r"
     ]
    },
    {
     "name": "stderr",
     "output_type": "stream",
     "text": [
      " 14%|█▍        | 7/50 [02:37<16:04, 22.44s/it]"
     ]
    },
    {
     "name": "stdout",
     "output_type": "stream",
     "text": [
      "Progress:\n",
      "\tTrain loss: 0.4754554546054672 | Train accuracy: 0.8578776121139526\n",
      "\t Test loss: 0.48393845558166504 | Test accuracy: 0.8597146272659302\r"
     ]
    },
    {
     "name": "stderr",
     "output_type": "stream",
     "text": [
      " 16%|█▌        | 8/50 [02:59<15:39, 22.37s/it]"
     ]
    },
    {
     "name": "stdout",
     "output_type": "stream",
     "text": [
      "Progress:\n",
      "\tTrain loss: 0.46296201865462694 | Train accuracy: 0.8685067892074585\n",
      "\t Test loss: 0.5023924112319946 | Test accuracy: 0.8281104564666748\r"
     ]
    },
    {
     "name": "stderr",
     "output_type": "stream",
     "text": [
      " 18%|█▊        | 9/50 [03:21<15:13, 22.27s/it]"
     ]
    },
    {
     "name": "stdout",
     "output_type": "stream",
     "text": [
      "Progress:\n",
      "\tTrain loss: 0.4532005519551389 | Train accuracy: 0.881993293762207\n",
      "\t Test loss: 0.46808651089668274 | Test accuracy: 0.8703827261924744\r"
     ]
    },
    {
     "name": "stderr",
     "output_type": "stream",
     "text": [
      " 20%|██        | 10/50 [03:43<14:50, 22.27s/it]"
     ]
    },
    {
     "name": "stdout",
     "output_type": "stream",
     "text": [
      "Progress:\n",
      "\tTrain loss: 0.44017638967317696 | Train accuracy: 0.8936510682106018\n",
      "\t Test loss: 0.49904772639274597 | Test accuracy: 0.8255767822265625\r"
     ]
    },
    {
     "name": "stderr",
     "output_type": "stream",
     "text": [
      " 22%|██▏       | 11/50 [04:05<14:25, 22.20s/it]"
     ]
    },
    {
     "name": "stdout",
     "output_type": "stream",
     "text": [
      "Progress:\n",
      "\tTrain loss: 0.4284979819374926 | Train accuracy: 0.9074233174324036\n",
      "\t Test loss: 0.4575294852256775 | Test accuracy: 0.8774503469467163\r"
     ]
    },
    {
     "name": "stderr",
     "output_type": "stream",
     "text": [
      " 24%|██▍       | 12/50 [04:28<14:05, 22.24s/it]"
     ]
    },
    {
     "name": "stdout",
     "output_type": "stream",
     "text": [
      "Progress:\n",
      "\tTrain loss: 0.42503141480333667 | Train accuracy: 0.9091376662254333\n",
      "\t Test loss: 0.4544410705566406 | Test accuracy: 0.8815842270851135\r"
     ]
    },
    {
     "name": "stderr",
     "output_type": "stream",
     "text": [
      " 26%|██▌       | 13/50 [04:50<13:47, 22.36s/it]"
     ]
    },
    {
     "name": "stdout",
     "output_type": "stream",
     "text": [
      "Progress:\n",
      "\tTrain loss: 0.41285736946498647 | Train accuracy: 0.922109842300415\n",
      "\t Test loss: 0.4442048668861389 | Test accuracy: 0.8889185190200806\r"
     ]
    },
    {
     "name": "stderr",
     "output_type": "stream",
     "text": [
      " 28%|██▊       | 14/50 [05:13<13:29, 22.48s/it]"
     ]
    },
    {
     "name": "stdout",
     "output_type": "stream",
     "text": [
      "Progress:\n",
      "\tTrain loss: 0.4075095171437544 | Train accuracy: 0.9266815781593323\n",
      "\t Test loss: 0.4438576102256775 | Test accuracy: 0.895319402217865\r"
     ]
    },
    {
     "name": "stderr",
     "output_type": "stream",
     "text": [
      " 30%|███       | 15/50 [05:36<13:08, 22.53s/it]"
     ]
    },
    {
     "name": "stdout",
     "output_type": "stream",
     "text": [
      "Progress:\n",
      "\tTrain loss: 0.39963305522413817 | Train accuracy: 0.9354820251464844\n",
      "\t Test loss: 0.43310099840164185 | Test accuracy: 0.9038538932800293\r"
     ]
    },
    {
     "name": "stderr",
     "output_type": "stream",
     "text": [
      " 32%|███▏      | 16/50 [05:58<12:43, 22.44s/it]"
     ]
    },
    {
     "name": "stdout",
     "output_type": "stream",
     "text": [
      "Progress:\n",
      "\tTrain loss: 0.392889859921792 | Train accuracy: 0.9435396790504456\n",
      "\t Test loss: 0.633719801902771 | Test accuracy: 0.6667555570602417\r"
     ]
    },
    {
     "name": "stderr",
     "output_type": "stream",
     "text": [
      " 34%|███▍      | 17/50 [06:21<12:21, 22.48s/it]"
     ]
    },
    {
     "name": "stdout",
     "output_type": "stream",
     "text": [
      "Progress:\n",
      "\tTrain loss: 0.3905082191614544 | Train accuracy: 0.9428539276123047\n",
      "\t Test loss: 0.4524683952331543 | Test accuracy: 0.8771836757659912\r"
     ]
    },
    {
     "name": "stderr",
     "output_type": "stream",
     "text": [
      " 36%|███▌      | 18/50 [06:43<11:59, 22.47s/it]"
     ]
    },
    {
     "name": "stdout",
     "output_type": "stream",
     "text": [
      "Progress:\n",
      "\tTrain loss: 0.3798688128590584 | Train accuracy: 0.9549688696861267\n",
      "\t Test loss: 0.4510241150856018 | Test accuracy: 0.8790505528450012\r"
     ]
    },
    {
     "name": "stderr",
     "output_type": "stream",
     "text": [
      " 38%|███▊      | 19/50 [07:06<11:37, 22.49s/it]"
     ]
    },
    {
     "name": "stdout",
     "output_type": "stream",
     "text": [
      "Progress:\n",
      "\tTrain loss: 0.37739868286777944 | Train accuracy: 0.9566832780838013\n",
      "\t Test loss: 0.42741650342941284 | Test accuracy: 0.9039872288703918\r"
     ]
    },
    {
     "name": "stderr",
     "output_type": "stream",
     "text": [
      " 40%|████      | 20/50 [07:28<11:14, 22.47s/it]"
     ]
    },
    {
     "name": "stdout",
     "output_type": "stream",
     "text": [
      "Progress:\n",
      "\tTrain loss: 0.37075023396926765 | Train accuracy: 0.9621692895889282\n",
      "\t Test loss: 0.42378416657447815 | Test accuracy: 0.910254716873169\r"
     ]
    },
    {
     "name": "stderr",
     "output_type": "stream",
     "text": [
      " 42%|████▏     | 21/50 [07:51<10:52, 22.48s/it]"
     ]
    },
    {
     "name": "stdout",
     "output_type": "stream",
     "text": [
      "Progress:\n",
      "\tTrain loss: 0.36738205701112747 | Train accuracy: 0.9657123684883118\n",
      "\t Test loss: 0.42504414916038513 | Test accuracy: 0.9063875675201416\r"
     ]
    },
    {
     "name": "stderr",
     "output_type": "stream",
     "text": [
      " 44%|████▍     | 22/50 [08:13<10:30, 22.52s/it]"
     ]
    },
    {
     "name": "stdout",
     "output_type": "stream",
     "text": [
      "Progress:\n",
      "\tTrain loss: 0.3621034096269047 | Train accuracy: 0.9707412123680115\n",
      "\t Test loss: 0.43916118144989014 | Test accuracy: 0.8891852498054504\r"
     ]
    },
    {
     "name": "stderr",
     "output_type": "stream",
     "text": [
      " 46%|████▌     | 23/50 [08:36<10:07, 22.50s/it]"
     ]
    },
    {
     "name": "stdout",
     "output_type": "stream",
     "text": [
      "Progress:\n",
      "\tTrain loss: 0.35962211209184985 | Train accuracy: 0.972455620765686\n",
      "\t Test loss: 0.45188212394714355 | Test accuracy: 0.8766502737998962\r"
     ]
    },
    {
     "name": "stderr",
     "output_type": "stream",
     "text": [
      " 48%|████▊     | 24/50 [08:58<09:44, 22.48s/it]"
     ]
    },
    {
     "name": "stdout",
     "output_type": "stream",
     "text": [
      "Progress:\n",
      "\tTrain loss: 0.35675456681672263 | Train accuracy: 0.9747414588928223\n",
      "\t Test loss: 0.41255107522010803 | Test accuracy: 0.916255533695221\r"
     ]
    },
    {
     "name": "stderr",
     "output_type": "stream",
     "text": [
      " 50%|█████     | 25/50 [09:21<09:21, 22.47s/it]"
     ]
    },
    {
     "name": "stdout",
     "output_type": "stream",
     "text": [
      "Progress:\n",
      "\tTrain loss: 0.34915757179260254 | Train accuracy: 0.9826847314834595\n",
      "\t Test loss: 0.4211217164993286 | Test accuracy: 0.910254716873169\r"
     ]
    },
    {
     "name": "stderr",
     "output_type": "stream",
     "text": [
      " 52%|█████▏    | 26/50 [09:43<08:58, 22.45s/it]"
     ]
    },
    {
     "name": "stdout",
     "output_type": "stream",
     "text": [
      "Progress:\n",
      "\tTrain loss: 0.34847571394022775 | Train accuracy: 0.9825133085250854\n",
      "\t Test loss: 0.4175620973110199 | Test accuracy: 0.908654510974884\r"
     ]
    },
    {
     "name": "stderr",
     "output_type": "stream",
     "text": [
      " 54%|█████▍    | 27/50 [10:05<08:35, 22.39s/it]"
     ]
    },
    {
     "name": "stdout",
     "output_type": "stream",
     "text": [
      "Progress:\n",
      "\tTrain loss: 0.34599582938586965 | Train accuracy: 0.9839991331100464\n",
      "\t Test loss: 0.40767788887023926 | Test accuracy: 0.9197226762771606\r"
     ]
    },
    {
     "name": "stderr",
     "output_type": "stream",
     "text": [
      " 56%|█████▌    | 28/50 [10:27<08:10, 22.30s/it]"
     ]
    },
    {
     "name": "stdout",
     "output_type": "stream",
     "text": [
      "Progress:\n",
      "\tTrain loss: 0.3436327563489185 | Train accuracy: 0.9862849712371826\n",
      "\t Test loss: 0.4263468384742737 | Test accuracy: 0.8998533487319946\r"
     ]
    },
    {
     "name": "stderr",
     "output_type": "stream",
     "text": [
      " 58%|█████▊    | 29/50 [10:49<07:46, 22.23s/it]"
     ]
    },
    {
     "name": "stdout",
     "output_type": "stream",
     "text": [
      "Progress:\n",
      "\tTrain loss: 0.33961379308910933 | Train accuracy: 0.9895423054695129\n",
      "\t Test loss: 0.4193621575832367 | Test accuracy: 0.9087878465652466\r"
     ]
    },
    {
     "name": "stderr",
     "output_type": "stream",
     "text": [
      " 60%|██████    | 30/50 [11:12<07:25, 22.30s/it]"
     ]
    },
    {
     "name": "stdout",
     "output_type": "stream",
     "text": [
      "Progress:\n",
      "\tTrain loss: 0.33978962459984946 | Train accuracy: 0.9889708161354065\n",
      "\t Test loss: 0.41484493017196655 | Test accuracy: 0.9106547832489014\r"
     ]
    },
    {
     "name": "stderr",
     "output_type": "stream",
     "text": [
      " 62%|██████▏   | 31/50 [11:34<07:05, 22.38s/it]"
     ]
    },
    {
     "name": "stdout",
     "output_type": "stream",
     "text": [
      "Progress:\n",
      "\tTrain loss: 0.3370157339993645 | Train accuracy: 0.9911995530128479\n",
      "\t Test loss: 0.41628292202949524 | Test accuracy: 0.9125217199325562\r"
     ]
    },
    {
     "name": "stderr",
     "output_type": "stream",
     "text": [
      " 64%|██████▍   | 32/50 [11:57<06:44, 22.48s/it]"
     ]
    },
    {
     "name": "stdout",
     "output_type": "stream",
     "text": [
      "Progress:\n",
      "\tTrain loss: 0.3351951802478117 | Train accuracy: 0.9923995733261108\n",
      "\t Test loss: 0.40881577134132385 | Test accuracy: 0.9197226762771606\r"
     ]
    },
    {
     "name": "stderr",
     "output_type": "stream",
     "text": [
      " 66%|██████▌   | 33/50 [12:20<06:23, 22.54s/it]"
     ]
    },
    {
     "name": "stdout",
     "output_type": "stream",
     "text": [
      "Progress:\n",
      "\tTrain loss: 0.3322206718080184 | Train accuracy: 0.9947425723075867\n",
      "\t Test loss: 0.41908589005470276 | Test accuracy: 0.9067875742912292\r"
     ]
    },
    {
     "name": "stderr",
     "output_type": "stream",
     "text": [
      " 68%|██████▊   | 34/50 [12:42<06:00, 22.53s/it]"
     ]
    },
    {
     "name": "stdout",
     "output_type": "stream",
     "text": [
      "Progress:\n",
      "\tTrain loss: 0.3330441060311654 | Train accuracy: 0.9934853911399841\n",
      "\t Test loss: 0.47761985659599304 | Test accuracy: 0.8441125750541687\r"
     ]
    },
    {
     "name": "stderr",
     "output_type": "stream",
     "text": [
      " 70%|███████   | 35/50 [13:05<05:37, 22.47s/it]"
     ]
    },
    {
     "name": "stdout",
     "output_type": "stream",
     "text": [
      "Progress:\n",
      "\tTrain loss: 0.33092449167195487 | Train accuracy: 0.9954283237457275\n",
      "\t Test loss: 0.4006243348121643 | Test accuracy: 0.9281237721443176\r"
     ]
    },
    {
     "name": "stderr",
     "output_type": "stream",
     "text": [
      " 72%|███████▏  | 36/50 [13:27<05:14, 22.50s/it]"
     ]
    },
    {
     "name": "stdout",
     "output_type": "stream",
     "text": [
      "Progress:\n",
      "\tTrain loss: 0.3306383341550827 | Train accuracy: 0.9949139952659607\n",
      "\t Test loss: 0.4103868007659912 | Test accuracy: 0.9153220653533936\r"
     ]
    },
    {
     "name": "stderr",
     "output_type": "stream",
     "text": [
      " 74%|███████▍  | 37/50 [13:50<04:52, 22.52s/it]"
     ]
    },
    {
     "name": "stdout",
     "output_type": "stream",
     "text": [
      "Progress:\n",
      "\tTrain loss: 0.32983363858040643 | Train accuracy: 0.9960569739341736\n",
      "\t Test loss: 0.40295925736427307 | Test accuracy: 0.9238565564155579\r"
     ]
    },
    {
     "name": "stderr",
     "output_type": "stream",
     "text": [
      " 76%|███████▌  | 38/50 [14:12<04:30, 22.54s/it]"
     ]
    },
    {
     "name": "stdout",
     "output_type": "stream",
     "text": [
      "Progress:\n",
      "\tTrain loss: 0.32956593658994227 | Train accuracy: 0.9960569739341736\n",
      "\t Test loss: 0.39952346682548523 | Test accuracy: 0.9275903701782227\r"
     ]
    },
    {
     "name": "stderr",
     "output_type": "stream",
     "text": [
      " 78%|███████▊  | 39/50 [14:35<04:08, 22.61s/it]"
     ]
    },
    {
     "name": "stdout",
     "output_type": "stream",
     "text": [
      "Progress:\n",
      "\tTrain loss: 0.3280272851972019 | Train accuracy: 0.9967427253723145\n",
      "\t Test loss: 0.4183642268180847 | Test accuracy: 0.9071876406669617\r"
     ]
    },
    {
     "name": "stderr",
     "output_type": "stream",
     "text": [
      " 80%|████████  | 40/50 [14:58<03:45, 22.60s/it]"
     ]
    },
    {
     "name": "stdout",
     "output_type": "stream",
     "text": [
      "Progress:\n",
      "\tTrain loss: 0.3280867531019099 | Train accuracy: 0.9962283968925476\n",
      "\t Test loss: 0.39965999126434326 | Test accuracy: 0.9279904365539551\r"
     ]
    },
    {
     "name": "stderr",
     "output_type": "stream",
     "text": [
      " 82%|████████▏ | 41/50 [15:20<03:22, 22.47s/it]"
     ]
    },
    {
     "name": "stdout",
     "output_type": "stream",
     "text": [
      "Progress:\n",
      "\tTrain loss: 0.3261181230054182 | Train accuracy: 0.9975998997688293\n",
      "\t Test loss: 0.4010853171348572 | Test accuracy: 0.9257234334945679\r"
     ]
    },
    {
     "name": "stderr",
     "output_type": "stream",
     "text": [
      " 84%|████████▍ | 42/50 [15:41<02:57, 22.15s/it]"
     ]
    },
    {
     "name": "stdout",
     "output_type": "stream",
     "text": [
      "Progress:\n",
      "\tTrain loss: 0.326139736263191 | Train accuracy: 0.9974855780601501\n",
      "\t Test loss: 0.407340943813324 | Test accuracy: 0.9181224703788757\r"
     ]
    },
    {
     "name": "stderr",
     "output_type": "stream",
     "text": [
      " 86%|████████▌ | 43/50 [16:03<02:33, 21.93s/it]"
     ]
    },
    {
     "name": "stdout",
     "output_type": "stream",
     "text": [
      "Progress:\n",
      "\tTrain loss: 0.32631254327647824 | Train accuracy: 0.9971427321434021\n",
      "\t Test loss: 0.3996972441673279 | Test accuracy: 0.9246566295623779\r"
     ]
    },
    {
     "name": "stderr",
     "output_type": "stream",
     "text": [
      " 88%|████████▊ | 44/50 [16:24<02:10, 21.77s/it]"
     ]
    },
    {
     "name": "stdout",
     "output_type": "stream",
     "text": [
      "Progress:\n",
      "\tTrain loss: 0.3265145999543807 | Train accuracy: 0.9969713091850281\n",
      "\t Test loss: 0.41349923610687256 | Test accuracy: 0.9119883179664612\r"
     ]
    },
    {
     "name": "stderr",
     "output_type": "stream",
     "text": [
      " 90%|█████████ | 45/50 [16:45<01:48, 21.66s/it]"
     ]
    },
    {
     "name": "stdout",
     "output_type": "stream",
     "text": [
      "Progress:\n",
      "\tTrain loss: 0.325215905028231 | Train accuracy: 0.9977713227272034\n",
      "\t Test loss: 0.39800992608070374 | Test accuracy: 0.9286571741104126\r"
     ]
    },
    {
     "name": "stderr",
     "output_type": "stream",
     "text": [
      " 92%|█████████▏| 46/50 [17:07<01:26, 21.60s/it]"
     ]
    },
    {
     "name": "stdout",
     "output_type": "stream",
     "text": [
      "Progress:\n",
      "\tTrain loss: 0.3258204990450074 | Train accuracy: 0.9973141551017761\n",
      "\t Test loss: 0.3998703360557556 | Test accuracy: 0.923589825630188\r"
     ]
    },
    {
     "name": "stderr",
     "output_type": "stream",
     "text": [
      " 94%|█████████▍| 47/50 [17:28<01:04, 21.55s/it]"
     ]
    },
    {
     "name": "stdout",
     "output_type": "stream",
     "text": [
      "Progress:\n",
      "\tTrain loss: 0.3267129181939013 | Train accuracy: 0.9969141483306885\n",
      "\t Test loss: 0.40143057703971863 | Test accuracy: 0.9269236326217651\r"
     ]
    },
    {
     "name": "stderr",
     "output_type": "stream",
     "text": [
      " 96%|█████████▌| 48/50 [17:50<00:43, 21.52s/it]"
     ]
    },
    {
     "name": "stdout",
     "output_type": "stream",
     "text": [
      "Progress:\n",
      "\tTrain loss: 0.3257584584986462 | Train accuracy: 0.9970855712890625\n",
      "\t Test loss: 0.40204235911369324 | Test accuracy: 0.9229230880737305\r"
     ]
    },
    {
     "name": "stderr",
     "output_type": "stream",
     "text": [
      " 98%|█████████▊| 49/50 [18:11<00:21, 21.47s/it]"
     ]
    },
    {
     "name": "stdout",
     "output_type": "stream",
     "text": [
      "Progress:\n",
      "\tTrain loss: 0.3281830987509559 | Train accuracy: 0.9948568940162659\n",
      "\t Test loss: 0.4025285243988037 | Test accuracy: 0.923589825630188\r"
     ]
    },
    {
     "name": "stderr",
     "output_type": "stream",
     "text": [
      "100%|██████████| 50/50 [18:32<00:00, 22.26s/it]"
     ]
    },
    {
     "name": "stdout",
     "output_type": "stream",
     "text": [
      "Progress:\n",
      "\tTrain loss: 0.3270672314307269 | Train accuracy: 0.9957712292671204\n",
      "\t Test loss: 0.4015301465988159 | Test accuracy: 0.9242566227912903\r"
     ]
    },
    {
     "name": "stderr",
     "output_type": "stream",
     "text": [
      "\n"
     ]
    }
   ],
   "source": [
    "import warnings\n",
    "warnings.simplefilter(\"ignore\")\n",
    "gc.collect()\n",
    "torch.cuda.empty_cache()\n",
    "fit(model_3, train_loader, test_loader, epochs=50)"
   ]
  },
  {
   "cell_type": "code",
   "execution_count": 13,
   "metadata": {},
   "outputs": [],
   "source": [
    "torch.save(model_2.state_dict(), \"cnd_normed_92_acc.pt\")"
   ]
  },
  {
   "cell_type": "code",
   "execution_count": null,
   "metadata": {},
   "outputs": [],
   "source": []
  }
 ],
 "metadata": {
  "kernelspec": {
   "display_name": "base",
   "language": "python",
   "name": "python3"
  },
  "language_info": {
   "codemirror_mode": {
    "name": "ipython",
    "version": 3
   },
   "file_extension": ".py",
   "mimetype": "text/x-python",
   "name": "python",
   "nbconvert_exporter": "python",
   "pygments_lexer": "ipython3",
   "version": "3.12.4"
  }
 },
 "nbformat": 4,
 "nbformat_minor": 2
}
